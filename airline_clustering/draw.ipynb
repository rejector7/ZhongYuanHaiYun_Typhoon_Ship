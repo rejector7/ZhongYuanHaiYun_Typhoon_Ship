{
 "cells": [
  {
   "cell_type": "code",
   "execution_count": 24,
   "metadata": {
    "collapsed": true
   },
   "outputs": [],
   "source": [
    "import pandas as pd\n",
    "import folium\n",
    "import matplotlib.pyplot as plt\n",
    "%matplotlib inline\n",
    "\n",
    "from airline_clustering.procesing import get_ports, get_shorted_ports_cd_to_position_dict, get_jy_voyages"
   ]
  },
  {
   "cell_type": "code",
   "execution_count": 25,
   "outputs": [
    {
     "data": {
      "text/plain": "array([[39, 'AEKHL', 'AE', 24.81240797, 54.65074704],\n       [40, 'BEANR', 'BE', 51.2167, 4.4167],\n       [41, 'BEZEE', 'BE', 51.3333, 3.2],\n       ...,\n       [10008, 'TRYAR', 'TR', 40.7757855, 30.005894899999998],\n       [10009, 'ITSAR', 'IT', 39.0654974, 9.0108377],\n       [10010, 'NLVLI', 'NL', 51.45, 3.583333]], dtype=object)"
     },
     "execution_count": 25,
     "metadata": {},
     "output_type": "execute_result"
    }
   ],
   "source": [
    "\"\"\"\n",
    "dim_port file processing and show\n",
    "\"\"\"\n",
    "\n",
    "port_dset = get_ports()\n",
    "port_dset = port_dset.values\n",
    "port_dset"
   ],
   "metadata": {
    "collapsed": false,
    "pycharm": {
     "name": "#%%\n"
    }
   }
  },
  {
   "cell_type": "code",
   "execution_count": 26,
   "outputs": [],
   "source": [
    "fm = folium.Map(location=[25, 120], zoom_start=1)"
   ],
   "metadata": {
    "collapsed": false,
    "pycharm": {
     "name": "#%%\n"
    }
   }
  },
  {
   "cell_type": "code",
   "execution_count": 27,
   "outputs": [],
   "source": [
    "# for port in port_dset:\n",
    "#     # folium.Marker(\n",
    "#     #     location=[port[3], port[4]],\n",
    "#     #     popup=port[1],\n",
    "#     #     tooltip=\"port cd\",\n",
    "#     #\n",
    "#     # ).add_to(fm)\n",
    "#     folium.Circle(\n",
    "#         location=(port[3], port[4]),\n",
    "#         popup=port[1],\n",
    "#         tooltip=\"port cd\",\n",
    "#         radius=10000,\n",
    "#         color=\"#3186cc\",\n",
    "#         fill=True,\n",
    "#         fill_color=\"#3186cc\",\n",
    "#     ).add_to(fm)\n",
    "#\n",
    "# # fm\n",
    "# fm.save(\"../processed_dset/ports.html\")\n",
    "# # plt.show()"
   ],
   "metadata": {
    "collapsed": false,
    "pycharm": {
     "name": "#%%\n"
    }
   }
  },
  {
   "cell_type": "code",
   "execution_count": 28,
   "outputs": [
    {
     "name": "stdout",
     "output_type": "stream",
     "text": [
      "1\n"
     ]
    }
   ],
   "source": [
    "jy_ports_postion = get_jy_voyages()\n",
    "colors = ['red', 'blue', 'green', 'purple', 'orange', 'darkred',\n",
    "'lightred', 'beige', 'darkblue', 'darkgreen', 'cadetblue', 'darkpurple', 'white', 'pink', 'lightblue', 'lightgreen', 'gray', 'black', 'lightgray']\n",
    "error_voyages = []\n",
    "for i in range(1000):\n",
    "    try:\n",
    "        folium.PolyLine(locations=jy_ports_postion[i], color=colors[i%len(colors)]).add_to(fm)\n",
    "    except:\n",
    "        error_voyages.append(i)\n",
    "print(len(error_voyages))\n",
    "fm.save(\"../processed_dset/jy_ports.html\")"
   ],
   "metadata": {
    "collapsed": false,
    "pycharm": {
     "name": "#%%\n"
    }
   }
  }
 ],
 "metadata": {
  "kernelspec": {
   "name": "python3",
   "language": "python",
   "display_name": "Python 3"
  },
  "language_info": {
   "codemirror_mode": {
    "name": "ipython",
    "version": 2
   },
   "file_extension": ".py",
   "mimetype": "text/x-python",
   "name": "python",
   "nbconvert_exporter": "python",
   "pygments_lexer": "ipython2",
   "version": "2.7.6"
  }
 },
 "nbformat": 4,
 "nbformat_minor": 0
}