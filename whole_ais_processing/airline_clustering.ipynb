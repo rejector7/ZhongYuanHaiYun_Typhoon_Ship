{
 "cells": [
  {
   "cell_type": "code",
   "execution_count": 61,
   "metadata": {
    "collapsed": true
   },
   "outputs": [],
   "source": [
    "import pandas as pd\n",
    "import folium\n",
    "import matplotlib.pyplot as plt\n",
    "%matplotlib inline"
   ]
  },
  {
   "cell_type": "code",
   "execution_count": 62,
   "outputs": [
    {
     "data": {
      "text/plain": "array([[10001, 'CNNBZ', 'CN', 29.88523, 122.059803],\n       [41, 'BEZEE', 'BE', 51.3333, 3.2],\n       [65, 'ESBIL', 'ES', 43.346631136499994, -3.0409023345999997],\n       ...,\n       [2644, 'JPTSG', 'JP', 35.665524, 136.064285],\n       [2719, 'USCVA', 'US', 60.54800899999999, -145.76351699999998],\n       [2732, 'VNDVU', 'VN', 20.844998999999998, 106.777208]],\n      dtype=object)"
     },
     "execution_count": 62,
     "metadata": {},
     "output_type": "execute_result"
    }
   ],
   "source": [
    "\"\"\"\n",
    "dim_port file processing and show\n",
    "\"\"\"\n",
    "def get_ports():\n",
    "    port_file = \"../dataset/DIM_PORT.csv\"\n",
    "    port_dset = pd.read_csv(port_file)\n",
    "    # print(port_dset.head())\n",
    "    # port_dset = port_dset.sort_values(by='port_id')\n",
    "    # print(port_dset.head())\n",
    "    # print(port_dset.describe())\n",
    "    port_dset = port_dset[['port_id', 'port_cd', 'country_cd', 'latitude', 'longitude']]\n",
    "    # print(port_dset.columns)\n",
    "    port_dset.dropna(inplace=True)\n",
    "    return port_dset\n",
    "\n",
    "\n",
    "port_dset = get_ports()\n",
    "port_dset = port_dset.values\n",
    "port_dset"
   ],
   "metadata": {
    "collapsed": false,
    "pycharm": {
     "name": "#%%\n"
    }
   }
  },
  {
   "cell_type": "code",
   "execution_count": 63,
   "outputs": [],
   "source": [
    "fm = folium.Map(location=[25, 120], zoom_start=1)\n",
    "for port in port_dset:\n",
    "    # folium.Marker(\n",
    "    #     location=[port[3], port[4]],\n",
    "    #     popup=port[1],\n",
    "    #     tooltip=\"port cd\",\n",
    "    #\n",
    "    # ).add_to(fm)\n",
    "    folium.Circle(\n",
    "        location=(port[3], port[4]),\n",
    "        popup=port[1],\n",
    "        tooltip=\"port cd\",\n",
    "        radius=10000,\n",
    "        color=\"#3186cc\",\n",
    "        fill=True,\n",
    "        fill_color=\"#3186cc\",\n",
    "    ).add_to(fm)\n",
    "\n",
    "# fm\n",
    "fm.save(\"../processed_dset/ports.html\")\n",
    "# plt.show()\n",
    "\n"
   ],
   "metadata": {
    "collapsed": false,
    "pycharm": {
     "name": "#%%\n"
    }
   }
  }
 ],
 "metadata": {
  "kernelspec": {
   "display_name": "Python 3",
   "language": "python",
   "name": "python3"
  },
  "language_info": {
   "codemirror_mode": {
    "name": "ipython",
    "version": 2
   },
   "file_extension": ".py",
   "mimetype": "text/x-python",
   "name": "python",
   "nbconvert_exporter": "python",
   "pygments_lexer": "ipython2",
   "version": "2.7.6"
  }
 },
 "nbformat": 4,
 "nbformat_minor": 0
}