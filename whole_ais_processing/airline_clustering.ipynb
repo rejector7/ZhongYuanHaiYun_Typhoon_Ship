{
 "cells": [],
 "metadata": {
  "kernelspec": {
   "name": "conda-env-Anaconda3-py",
   "language": "python",
   "display_name": "Python [conda env:Anaconda3]"
  },
  "language_info": {
   "codemirror_mode": {
    "name": "ipython",
    "version": 2
   },
   "file_extension": ".py",
   "mimetype": "text/x-python",
   "name": "python",
   "nbconvert_exporter": "python",
   "pygments_lexer": "ipython2",
   "version": "2.7.6"
  }
 },
 "nbformat": 4,
 "nbformat_minor": 0
}